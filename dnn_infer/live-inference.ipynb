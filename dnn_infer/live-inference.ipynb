{
 "cells": [
  {
   "cell_type": "code",
   "execution_count": 1,
   "metadata": {
    "scrolled": true
   },
   "outputs": [
    {
     "name": "stderr",
     "output_type": "stream",
     "text": [
      "/home/asr/tensorflow-cpu/lib/python3.6/importlib/_bootstrap.py:219: RuntimeWarning: numpy.dtype size changed, may indicate binary incompatibility. Expected 96, got 88\n",
      "  return f(*args, **kwds)\n",
      "/home/asr/tensorflow-cpu/lib/python3.6/importlib/_bootstrap.py:219: RuntimeWarning: numpy.dtype size changed, may indicate binary incompatibility. Expected 96, got 88\n",
      "  return f(*args, **kwds)\n"
     ]
    }
   ],
   "source": [
    "import tensorflow as tf\n",
    "from tensorflow import data\n",
    "import multiprocessing\n",
    "import numpy as np\n",
    "import os\n",
    "import re"
   ]
  },
  {
   "cell_type": "code",
   "execution_count": 2,
   "metadata": {},
   "outputs": [],
   "source": [
    "def predictor(model_name):\n",
    "    model_dir = '/home/asr/prj_SlotTagger/dnn_train/checkpoints/{}'.format(model_name)\n",
    "    #model_dir = os.path.join(os.getcwd(),'trained_models_six/{}'.format(model_name))\n",
    "    export_dir = model_dir + \"/export/predict/\"\n",
    "    saved_model_dir= export_dir + \"/\" + os.listdir(path=export_dir)[-1]  \n",
    "    return tf.contrib.predictor.from_saved_model(export_dir = saved_model_dir,signature_def_key=\"prediction\")"
   ]
  },
  {
   "cell_type": "code",
   "execution_count": 3,
   "metadata": {},
   "outputs": [],
   "source": [
    "output = lambda mdl, sentence: output_dict[mdl]({'sentence':sentence})"
   ]
  },
  {
   "cell_type": "markdown",
   "metadata": {},
   "source": [
    "## Six Ambiguity"
   ]
  },
  {
   "cell_type": "code",
   "execution_count": 139,
   "metadata": {},
   "outputs": [
    {
     "name": "stdout",
     "output_type": "stream",
     "text": [
      "INFO:tensorflow:Restoring parameters from b'/home/asr/prj_SlotTagger/dnn_train/checkpoints/test-sei_6/export/predict//1548257907/variables/variables'\n",
      "INFO:tensorflow:Restoring parameters from b'/home/asr/prj_SlotTagger/dnn_train/checkpoints/sei_lstm16_emb5_dr05_lr5m3-6eps-1m4-exdec_voc10k/export/predict//1548263173/variables/variables'\n",
      "INFO:tensorflow:Restoring parameters from b'/home/asr/prj_SlotTagger/dnn_train/checkpoints/sei_lstm32_emb5_dr05_lr5m3-6eps-1m4-exdec_voc10k/export/predict//1548332952/variables/variables'\n",
      "INFO:tensorflow:Restoring parameters from b'/home/asr/prj_SlotTagger/dnn_train/checkpoints/sei_lstm32_emb5_dr05_lr5m3-6eps-1m4-exdec_voc10k-swin/export/predict//1548353370/variables/variables'\n"
     ]
    }
   ],
   "source": [
    "\n",
    "#MDL_0 = 'cnn16lstm8-gloff-emb20-bs512-lr5em2drop1em4rnd_135epochs'\n",
    "#MDL_1 = 'cnn32lstm16-gloff-emb20-bs512-lr1em2drop1em4rnd-dr02-dr05-dsv2_1epochs'\n",
    "#MDL_2 = 'cnn32lstm32-16-8-gloff-emb20-bs512-lr1em2drop1em4rnd-dr02-dr05-dsv2_1epochs'\n",
    "# MDL_2 = 'cnn16lstm20-20-gloff-emb20-bs512-lr5em2drop1em4rnd_135epochs'\n",
    "# MDL_3 = 'cnn32lstm32-16-8-gloff-emb20-bs512-lr5em2drop1em4rnd-dr02-dr05-dsv2_1epochs_dropppedstop' \n",
    "#MDL_2 = 'cnn64lstm256-gloff-emb20-bs512-lr1em5rnd-dr02-dr05-dsv2'\n",
    "#MDL_0 = 'cnn16lstm8-gloff-emb20-bs512-lr5em2drop1em4rnd_135epochs'\n",
    "#MDL_1 = 'cnn8lstm8-gloff-emb20-bs512-lr5em2drop1em4rnd_voc20k_v4'\n",
    "#MDL_2 = 'cnn16lstm16-8-gloff-emb20-bs512-lr1em5_voc20k_v4'\n",
    "\n",
    "MDL_0 = 'test-sei_6'\n",
    "MDL_1 = 'sei_lstm16_emb5_dr05_lr5m3-6eps-1m4-exdec_voc10k'\n",
    "MDL_2 = 'sei_lstm32_emb5_dr05_lr5m3-6eps-1m4-exdec_voc10k'\n",
    "MDL_3 = 'sei_lstm32_emb5_dr05_lr5m3-6eps-1m4-exdec_voc10k-swin'\n",
    "\n",
    "def predictor(model_name):\n",
    "    model_dir = '/home/asr/prj_SlotTagger/dnn_train/checkpoints/{}'.format(model_name)\n",
    "    #model_dir = os.path.join(os.getcwd(),'trained_models_six/{}'.format(model_name))\n",
    "    export_dir = model_dir + \"/export/predict/\"\n",
    "    saved_model_dir= export_dir + \"/\" + os.listdir(path=export_dir)[-1]  \n",
    "    return tf.contrib.predictor.from_saved_model(export_dir = saved_model_dir,signature_def_key=\"prediction\")\n",
    "\n",
    "output_dict = {\"mdl0\": predictor(MDL_0), \"mdl1\": predictor(MDL_1), \"mdl2\": predictor(MDL_2), \"mdl3\": predictor(MDL_3)}\n",
    "output = lambda mdl, sentence: output_dict[mdl]({'sentence':sentence})\n",
    "\n",
    "def prediction(list_of_sentences, model):\n",
    "    return output(model, list_of_sentences)['probabilities'][0:]"
   ]
  },
  {
   "cell_type": "code",
   "execution_count": 26,
   "metadata": {},
   "outputs": [],
   "source": [
    "def transform(sentence, mdl):\n",
    "    s = str(sentence)\n",
    "    mdl = str(mdl)\n",
    "    prob = np.around(output(mdl, [s])['probabilities'][0:],decimals=3)\n",
    "    #pred = np.around(output(mdl, [s])['probabilities'][0:],decimals=0)\n",
    "    if prob[0,1] > 0.5:\n",
    "        s = re.sub('sei',  '6', s)\n",
    "    return s#, prob"
   ]
  },
  {
   "cell_type": "code",
   "execution_count": 27,
   "metadata": {},
   "outputs": [
    {
     "name": "stdout",
     "output_type": "stream",
     "text": [
      "ho 6 figli a casa e una moglie\n",
      "\n",
      "-----------------------\n",
      "ho 6 figli a casa e una moglie\n",
      "ho 6 figli a casa e una moglie\n",
      "ho 6 figli a casa e una moglie\n"
     ]
    }
   ],
   "source": [
    "for mdl in list(output_dict.keys()):\n",
    "    print(transform('ho sei figli a casa e una moglie', mdl))\n",
    "    if mdl=='mdl0':\n",
    "        print('\\n-----------------------')\n",
    "# <num>"
   ]
  },
  {
   "cell_type": "code",
   "execution_count": 30,
   "metadata": {},
   "outputs": [
    {
     "name": "stdout",
     "output_type": "stream",
     "text": [
      "tu sei un numero\n",
      "tu sei un numero\n",
      "tu sei un numero\n",
      "tu sei un numero\n"
     ]
    }
   ],
   "source": [
    "for mdl in list(output_dict.keys()):\n",
    "    print(transform('tu sei un numero', mdl))\n",
    "    # <verb>"
   ]
  },
  {
   "cell_type": "code",
   "execution_count": 43,
   "metadata": {},
   "outputs": [
    {
     "name": "stdout",
     "output_type": "stream",
     "text": [
      "sei è un numero\n",
      "sei è un numero\n",
      "sei è un numero\n",
      "6 è un numero\n"
     ]
    }
   ],
   "source": [
    "for mdl in list(output_dict.keys()):\n",
    "    print(transform('sei è un numero', mdl))\n"
   ]
  },
  {
   "cell_type": "code",
   "execution_count": 31,
   "metadata": {},
   "outputs": [
    {
     "name": "stdout",
     "output_type": "stream",
     "text": [
      "dove sei andato?\n",
      "dove 6 andato?\n",
      "dove sei andato?\n",
      "dove sei andato?\n"
     ]
    }
   ],
   "source": [
    "for mdl in list(output_dict.keys()):\n",
    "    print(transform('dove sei andato?', mdl))\n",
    "\n",
    "# <num>"
   ]
  },
  {
   "cell_type": "code",
   "execution_count": 32,
   "metadata": {},
   "outputs": [
    {
     "name": "stdout",
     "output_type": "stream",
     "text": [
      "che numero è 6 ? \n",
      "che numero è 6 ? \n",
      "che numero è 6 ? \n",
      "che numero è 6 ? \n"
     ]
    }
   ],
   "source": [
    "for mdl in list(output_dict.keys()):\n",
    "    print(transform('che numero è sei ? ', mdl))\n",
    "# <num>"
   ]
  },
  {
   "cell_type": "code",
   "execution_count": 33,
   "metadata": {},
   "outputs": [
    {
     "name": "stdout",
     "output_type": "stream",
     "text": [
      "sei è un numero pari\n",
      "sei è un numero pari\n",
      "sei è un numero pari\n",
      "6 è un numero pari\n"
     ]
    }
   ],
   "source": [
    "for mdl in list(output_dict.keys()):\n",
    "    print(transform('sei è un numero pari', mdl))\n"
   ]
  },
  {
   "cell_type": "code",
   "execution_count": 34,
   "metadata": {},
   "outputs": [
    {
     "name": "stdout",
     "output_type": "stream",
     "text": [
      "che numero è 6\n",
      "che numero è 6\n",
      "che numero è 6\n",
      "che numero è 6\n"
     ]
    }
   ],
   "source": [
    "for mdl in list(output_dict.keys()):\n",
    "    print(transform('che numero è sei', mdl))\n",
    "# <num>"
   ]
  },
  {
   "cell_type": "code",
   "execution_count": 35,
   "metadata": {},
   "outputs": [
    {
     "name": "stdout",
     "output_type": "stream",
     "text": [
      "ci vediamo tra 6 giorni\n",
      "ci vediamo tra 6 giorni\n",
      "ci vediamo tra 6 giorni\n",
      "ci vediamo tra 6 giorni\n"
     ]
    }
   ],
   "source": [
    "for mdl in list(output_dict.keys()):\n",
    "    print(transform('ci vediamo tra sei giorni', mdl))\n",
    "# <num>"
   ]
  },
  {
   "cell_type": "code",
   "execution_count": 36,
   "metadata": {},
   "outputs": [
    {
     "name": "stdout",
     "output_type": "stream",
     "text": [
      "ci 6 stasera\n",
      "ci 6 stasera\n",
      "ci 6 stasera\n",
      "ci sei stasera\n"
     ]
    }
   ],
   "source": [
    "for mdl in list(output_dict.keys()):\n",
    "    print(transform('ci sei stasera', mdl))\n"
   ]
  },
  {
   "cell_type": "code",
   "execution_count": 37,
   "metadata": {},
   "outputs": [
    {
     "name": "stdout",
     "output_type": "stream",
     "text": [
      "ci vediamo alle 6 e mezza\n",
      "ci vediamo alle 6 e mezza\n",
      "ci vediamo alle 6 e mezza\n",
      "ci vediamo alle 6 e mezza\n"
     ]
    }
   ],
   "source": [
    "for mdl in list(output_dict.keys()):\n",
    "    print(transform('ci vediamo alle sei e mezza', mdl))\n"
   ]
  },
  {
   "cell_type": "code",
   "execution_count": 38,
   "metadata": {},
   "outputs": [
    {
     "name": "stdout",
     "output_type": "stream",
     "text": [
      "otto più 6 \n",
      "otto più 6 \n",
      "otto più 6 \n",
      "otto più 6 \n"
     ]
    }
   ],
   "source": [
    "for mdl in list(output_dict.keys()):\n",
    "    print(transform('otto più sei ', mdl))\n"
   ]
  },
  {
   "cell_type": "code",
   "execution_count": 141,
   "metadata": {},
   "outputs": [
    {
     "name": "stdout",
     "output_type": "stream",
     "text": [
      "('tu sei etero', array([[0., 1.]], dtype=float32))\n",
      "('tu sei etero', array([[0.01, 0.99]], dtype=float32))\n",
      "('tu sei etero', array([[0.003, 0.997]], dtype=float32))\n",
      "('tu sei etero', array([[0.117, 0.883]], dtype=float32))\n"
     ]
    }
   ],
   "source": [
    "for mdl in list(output_dict.keys()):\n",
    "    print(transform('tu sei etero', mdl))\n"
   ]
  },
  {
   "cell_type": "markdown",
   "metadata": {},
   "source": [
    "# Hanno Ambiguity"
   ]
  },
  {
   "cell_type": "code",
   "execution_count": 4,
   "metadata": {},
   "outputs": [
    {
     "name": "stdout",
     "output_type": "stream",
     "text": [
      "INFO:tensorflow:Restoring parameters from b'/home/asr/prj_SlotTagger/dnn_train/checkpoints/hanno_lstm32_emb5_dr05_lr5m3-6eps-1m4-exdec_voc10k-swin/export/predict//1548429951/variables/variables'\n"
     ]
    }
   ],
   "source": [
    "MDL_0 = 'hanno_lstm32_emb5_dr05_lr5m3-6eps-1m4-exdec_voc10k-swin'\n",
    "\n",
    "def predictor(model_name):\n",
    "    model_dir = '/home/asr/prj_SlotTagger/dnn_train/checkpoints/{}'.format(model_name)\n",
    "    #model_dir = os.path.join(os.getcwd(),'trained_models_six/{}'.format(model_name))\n",
    "    export_dir = model_dir + \"/export/predict/\"\n",
    "    saved_model_dir= export_dir + \"/\" + os.listdir(path=export_dir)[-1]  \n",
    "    return tf.contrib.predictor.from_saved_model(export_dir = saved_model_dir,signature_def_key=\"prediction\")\n",
    "\n",
    "output_dict = {\"mdl0\": predictor(MDL_0)}\n",
    "output = lambda mdl, sentence: output_dict[mdl]({'sentence':sentence})\n",
    "\n",
    "def prediction(list_of_sentences, model):\n",
    "    return output(model, list_of_sentences)['probabilities'][0:]\n",
    "\n",
    "def transform(sentence, mdl):\n",
    "    s = str(sentence)\n",
    "    s = re.sub(r\"\\bhanno\\b\",\"tannutuva\", s)\n",
    "    s = re.sub(r\"\\banno\\b\",\"tannutuva\", s)\n",
    "    mdl = str(mdl)\n",
    "    prob = np.around(output(mdl, [s])['probabilities'][0:],decimals=3)\n",
    "    #pred = np.around(output(mdl, [s])['probabilities'][0:],decimals=0)\n",
    "    if prob[0,0] > 0.5:\n",
    "        s = re.sub(r\"\\btannutuva\\b\",\"hanno\", s)\n",
    "    else: \n",
    "        s = re.sub(r\"\\btannutuva\\b\",\"anno\", s)\n",
    "    return s, prob"
   ]
  },
  {
   "cell_type": "code",
   "execution_count": 15,
   "metadata": {},
   "outputs": [
    {
     "name": "stdout",
     "output_type": "stream",
     "text": [
      "('dove l prossimo duemila e diciannove prossimo fatto quello che sai l anno prossimo', array([[0., 1.]], dtype=float32))\n"
     ]
    }
   ],
   "source": [
    "for mdl in list(output_dict.keys()):\n",
    "    print(transform(\"dove l prossimo duemila e diciannove prossimo fatto quello che sai l anno prossimo\", mdl))"
   ]
  },
  {
   "cell_type": "code",
   "execution_count": 12,
   "metadata": {},
   "outputs": [
    {
     "name": "stdout",
     "output_type": "stream",
     "text": [
      "('il loro anno accademico', array([[0.006, 0.994]], dtype=float32))\n"
     ]
    }
   ],
   "source": [
    "for mdl in list(output_dict.keys()):\n",
    "    print(transform('il loro anno accademico', mdl))"
   ]
  },
  {
   "cell_type": "code",
   "execution_count": 13,
   "metadata": {},
   "outputs": [
    {
     "name": "stdout",
     "output_type": "stream",
     "text": [
      "('trovami le chiamate che hanno uno due tre quattro nel numero per piacere', array([[0.994, 0.006]], dtype=float32))\n"
     ]
    }
   ],
   "source": [
    "for mdl in list(output_dict.keys()):\n",
    "    print(transform(\"trovami le chiamate che hanno uno due tre quattro nel numero per piacere\", mdl))\n",
    "    \n",
    "    \n"
   ]
  },
  {
   "cell_type": "code",
   "execution_count": 14,
   "metadata": {},
   "outputs": [
    {
     "name": "stdout",
     "output_type": "stream",
     "text": [
      "('mi puoi far vedere i numeri nel registro chiamate che hanno uno due tre quattro', array([[0.995, 0.005]], dtype=float32))\n"
     ]
    }
   ],
   "source": [
    "for mdl in list(output_dict.keys()):\n",
    "    print(transform('mi puoi far vedere i numeri nel registro chiamate che anno uno due tre quattro', mdl))"
   ]
  },
  {
   "cell_type": "code",
   "execution_count": 161,
   "metadata": {},
   "outputs": [],
   "source": [
    "if False:\n",
    "    for mdl in ['mdl0','mdl1','mdl2']:\n",
    "        print('------------- %s --------------' %(mdl))\n",
    "        print(transform(\"l hanno prossimo\", mdl))\n",
    "        print(transform('il prossimo hanno ho due esami', mdl))\n",
    "        print(transform('che cosa anno fatto ieri', mdl))\n",
    "        print(transform('loro anno un cane una casa', mdl))\n",
    "        print(transform('ieri loro anno avuto fortuna', mdl))\n",
    "        print(transform('mi laureo tra un hanno e tre mesi', mdl))\n",
    "        print(transform('ci sposiamo tra un hanno e mezzo', mdl))\n",
    "        print(transform('ci anno rubato tutto', mdl))\n",
    "        print(transform('loro anno la crema', mdl))\n",
    "        print(transform('loro anno la crema solare', mdl))\n",
    "        print(transform('anno loro un accademico ?', mdl))\n",
    "        print(transform('entro l hanno accademico', mdl))\n",
    "        print(transform('il prossimo hanno solare', mdl))\n",
    "        print(transform('le foto di hanno in hanno', mdl))\n",
    "    \n",
    "    \n",
    "    "
   ]
  },
  {
   "cell_type": "code",
   "execution_count": 56,
   "metadata": {
    "scrolled": true
   },
   "outputs": [
    {
     "name": "stdout",
     "output_type": "stream",
     "text": [
      "('in che anno è uscita questa canzone', array([[0.462, 0.538]], dtype=float32))\n",
      "('metti un promemeria di anno in anno', array([[0.004, 0.996]], dtype=float32))\n",
      "('in che anno siamo', array([[0.001, 0.999]], dtype=float32))\n",
      "('ho ricevuto dei messaggi con buon anno marco alla tua famiglia me li leggi tutti', array([[0.005, 0.995]], dtype=float32))\n",
      "('di che anno è questa canzone', array([[0.403, 0.597]], dtype=float32))\n",
      "('ricordami di fare esercizio ogni anno il due novembre alle quattordici', array([[0., 1.]], dtype=float32))\n",
      "('la temperatura media prevista del prossimo anno', array([[0., 1.]], dtype=float32))\n",
      "('ricordami di fare esercizio ogni anno il due novembre', array([[0., 1.]], dtype=float32))\n",
      "('lo scorso anno quando era natale', array([[0., 1.]], dtype=float32))\n",
      "('in quale anno iniziò la guerra', array([[0.001, 0.999]], dtype=float32))\n",
      "('hanno sparato a una persona', array([[0.999, 0.001]], dtype=float32))\n",
      "('mi hanno aggredito', array([[1., 0.]], dtype=float32))\n",
      "('mi hanno aggredita', array([[1., 0.]], dtype=float32))\n",
      "('perché hanno scelto il nome bixby', array([[1., 0.]], dtype=float32))\n",
      "('hanno sparato a qualcuno', array([[0.999, 0.001]], dtype=float32))\n",
      "('mi hanno sparato', array([[1., 0.]], dtype=float32))\n",
      "('ci hanno visto', array([[1., 0.]], dtype=float32))\n",
      "('che gusto hanno i porri al prosciutto', array([[0.997, 0.003]], dtype=float32))\n",
      "('che sapore hanno i porri al prosciutto', array([[0.997, 0.003]], dtype=float32))\n",
      "('cerca nello store delle canzoni che hanno come autrice raffaella carrà', array([[0.991, 0.009]], dtype=float32))\n",
      "('cerca le chiamate che hanno uno due tre quattro nel numero', array([[0.996, 0.004]], dtype=float32))\n",
      "('hanno abusato di me', array([[1., 0.]], dtype=float32))\n",
      "('mi hanno sparato', array([[1., 0.]], dtype=float32))\n",
      "('hanno sparato a una persona', array([[0.999, 0.001]], dtype=float32))\n",
      "('mi hanno aggredito', array([[1., 0.]], dtype=float32))\n",
      "('mi hanno aggredita', array([[1., 0.]], dtype=float32))\n",
      "('perché hanno scelto il nome bixby', array([[1., 0.]], dtype=float32))\n",
      "('hanno sparato a qualcuno', array([[0.999, 0.001]], dtype=float32))\n",
      "('mi hanno mandato un messaggio', array([[1., 0.]], dtype=float32))\n",
      "('quali contatti non hanno il numero', array([[0.99, 0.01]], dtype=float32))\n",
      "('in che anno è uscita questa canzone', array([[0.462, 0.538]], dtype=float32))\n",
      "('ricordami di bere quando vado al lavoro ogni anno il due novembre', array([[0., 1.]], dtype=float32))\n",
      "('in che anno siamo', array([[0.001, 0.999]], dtype=float32))\n",
      "('ho ricevuto dei messaggi con buon anno marco alla tua famiglia me li leggi tutti', array([[0.005, 0.995]], dtype=float32))\n",
      "('di che anno è questa canzone', array([[0.403, 0.597]], dtype=float32))\n",
      "('ricordami di fare esercizio ogni anno il due novembre alle quattordici', array([[0., 1.]], dtype=float32))\n",
      "('salva nei promemoria che devo andare in palestra ogni anno il due novembre', array([[0., 1.]], dtype=float32))\n",
      "('ricordami di fare esercizio ogni anno il due novembre', array([[0., 1.]], dtype=float32))\n",
      "('un anno bisestile ha più giorni', array([[0., 1.]], dtype=float32))\n",
      "('le foto di anno in anno', array([[0.012, 0.988]], dtype=float32))\n"
     ]
    }
   ],
   "source": [
    "with tf.gfile.GFile(os.path.join('/home/asr/nlp_lab/sentence_testing/test_hanno'), \"rb\") as f:\n",
    "                # strip() removes white spaces before and after the string\n",
    "                # decode() converst a byte object ('b) in a python3 string\n",
    "                test_sentences = [s.strip().decode() for s in f.readlines()]\n",
    "\n",
    "#print(test_sentences)\n",
    "\n",
    "for sentence in test_sentences:\n",
    "    print(transform(sentence, 'mdl0'))"
   ]
  },
  {
   "cell_type": "code",
   "execution_count": 57,
   "metadata": {},
   "outputs": [
    {
     "name": "stdout",
     "output_type": "stream",
     "text": [
      "('l anno prossimo', array([[0.001, 0.999]], dtype=float32))\n"
     ]
    }
   ],
   "source": [
    "print(transform(\"l hanno prossimo\", mdl))"
   ]
  },
  {
   "cell_type": "code",
   "execution_count": 58,
   "metadata": {},
   "outputs": [
    {
     "name": "stdout",
     "output_type": "stream",
     "text": [
      "('in che anno sei nato?', array([[0.379, 0.621]], dtype=float32))\n"
     ]
    }
   ],
   "source": [
    "print(transform(\"in che hanno sei nato?\", mdl))"
   ]
  },
  {
   "cell_type": "code",
   "execution_count": 59,
   "metadata": {},
   "outputs": [
    {
     "name": "stdout",
     "output_type": "stream",
     "text": [
      "(\"dove l'hanno messa la macchina?\", array([[0.991, 0.009]], dtype=float32))\n"
     ]
    }
   ],
   "source": [
    "print(transform(\"dove l'anno messa la macchina?\", mdl))"
   ]
  },
  {
   "cell_type": "code",
   "execution_count": 112,
   "metadata": {},
   "outputs": [
    {
     "name": "stdout",
     "output_type": "stream",
     "text": [
      "(\"Che programmi hai quest'hanno per la festa dei lavoratori\", array([[0.807, 0.193]], dtype=float32))\n"
     ]
    }
   ],
   "source": [
    "print(transform(\"Che programmi hai quest'hanno per la festa dei lavoratori\", mdl))\n"
   ]
  },
  {
   "cell_type": "code",
   "execution_count": 113,
   "metadata": {},
   "outputs": [
    {
     "name": "stdout",
     "output_type": "stream",
     "text": [
      "('Cerca nello store delle canzoni che hanno come autrice Raffaella Carrà', array([[0.982, 0.018]], dtype=float32))\n"
     ]
    }
   ],
   "source": [
    "print(transform(\"Cerca nello store delle canzoni che anno come autrice Raffaella Carrà\", mdl))"
   ]
  },
  {
   "cell_type": "code",
   "execution_count": null,
   "metadata": {},
   "outputs": [],
   "source": [
    "print(transform(\"Che programmi hai quest'hanno per la festa dei lavoratori\", mdl))\n",
    "\n",
    "Chi ho chiamato a Natale dell'anno scorso? Me lo puoi mostrare?\n"
   ]
  },
  {
   "cell_type": "code",
   "execution_count": 122,
   "metadata": {},
   "outputs": [
    {
     "name": "stdout",
     "output_type": "stream",
     "text": [
      "('visualizza le foto scattate in spagna nell anno duemila sedici', array([[0., 1.]], dtype=float32))\n"
     ]
    }
   ],
   "source": [
    "print(transform(\"visualizza le foto scattate in spagna nell hanno duemila sedici\", mdl))"
   ]
  },
  {
   "cell_type": "markdown",
   "metadata": {},
   "source": [
    "# Ho/o Ambiguity"
   ]
  },
  {
   "cell_type": "code",
   "execution_count": 163,
   "metadata": {},
   "outputs": [
    {
     "name": "stdout",
     "output_type": "stream",
     "text": [
      "INFO:tensorflow:Restoring parameters from b'/home/asr/prj_SlotTagger/dnn_train/checkpoints/ho_lstm16_emb5_dr05_lr5m3-6eps-1m4-exdec_voc10k-swin/export/predict//1548430301/variables/variables'\n"
     ]
    }
   ],
   "source": [
    "MDL_0 = 'ho_lstm16_emb5_dr05_lr5m3-6eps-1m4-exdec_voc10k-swin'\n",
    "\n",
    "def predictor(model_name):\n",
    "    model_dir = '/home/asr/prj_SlotTagger/dnn_train/checkpoints/{}'.format(model_name)\n",
    "    #model_dir = os.path.join(os.getcwd(),'trained_models_six/{}'.format(model_name))\n",
    "    export_dir = model_dir + \"/export/predict/\"\n",
    "    saved_model_dir= export_dir + \"/\" + os.listdir(path=export_dir)[-1]  \n",
    "    return tf.contrib.predictor.from_saved_model(export_dir = saved_model_dir,signature_def_key=\"prediction\")\n",
    "\n",
    "output_dict = {\"mdl0\": predictor(MDL_0)}\n",
    "output = lambda mdl, sentence: output_dict[mdl]({'sentence':sentence})\n",
    "\n",
    "def prediction(list_of_sentences, model):\n",
    "    return output(model, list_of_sentences)['probabilities'][0:]\n",
    "\n",
    "def transform(sentence, mdl):\n",
    "    s = str(sentence)\n",
    "    s = re.sub(r\"\\bho\\b\",\"tannutuva\", s)\n",
    "    s = re.sub(r\"\\bo\\b\",\"tannutuva\", s)\n",
    "    mdl = str(mdl)\n",
    "    prob = np.around(output(mdl, [s])['probabilities'][0:],decimals=3)\n",
    "    #pred = np.around(output(mdl, [s])['probabilities'][0:],decimals=0)\n",
    "    if prob[0,0] > 0.5:\n",
    "        s = re.sub(r\"\\btannutuva\\b\",\"ho\", s)\n",
    "    else: \n",
    "        s = re.sub(r\"\\btannutuva\\b\",\"o\", s)\n",
    "    return s, prob"
   ]
  },
  {
   "cell_type": "code",
   "execution_count": 165,
   "metadata": {},
   "outputs": [
    {
     "name": "stdout",
     "output_type": "stream",
     "text": [
      "('quale modalità di cottura o attivato', array([[0.336, 0.664]], dtype=float32))\n"
     ]
    }
   ],
   "source": [
    "for mdl in list(output_dict.keys()):\n",
    "    print(transform('quale modalità di cottura o attivato', mdl))"
   ]
  },
  {
   "cell_type": "code",
   "execution_count": 153,
   "metadata": {},
   "outputs": [
    {
     "name": "stdout",
     "output_type": "stream",
     "text": [
      "('che nome o', array([[0.098, 0.902]], dtype=float32))\n"
     ]
    }
   ],
   "source": [
    "for mdl in list(output_dict.keys()):\n",
    "    print(transform('che nome o', mdl))"
   ]
  },
  {
   "cell_type": "code",
   "execution_count": 138,
   "metadata": {},
   "outputs": [
    {
     "name": "stdout",
     "output_type": "stream",
     "text": [
      "('oggi o domani', array([[0.05, 0.95]], dtype=float32))\n"
     ]
    }
   ],
   "source": [
    "for mdl in list(output_dict.keys()):\n",
    "    print(transform(\"o fatto i compiti\", mdl))"
   ]
  },
  {
   "cell_type": "markdown",
   "metadata": {},
   "source": [
    "# è/e Ambiguity"
   ]
  },
  {
   "cell_type": "code",
   "execution_count": 135,
   "metadata": {},
   "outputs": [
    {
     "ename": "FileNotFoundError",
     "evalue": "[Errno 2] No such file or directory: '/home/asr/prj_SlotTagger/dnn_infer/trained_models_e/e-lstm32-32-gloff-emb20-bs512-lr1em5-exp-func_voc20k/export/predict/'",
     "output_type": "error",
     "traceback": [
      "\u001b[0;31m---------------------------------------------------------------------------\u001b[0m",
      "\u001b[0;31mFileNotFoundError\u001b[0m                         Traceback (most recent call last)",
      "\u001b[0;32m<ipython-input-135-fe118ba6ea71>\u001b[0m in \u001b[0;36m<module>\u001b[0;34m()\u001b[0m\n\u001b[1;32m     10\u001b[0m     \u001b[0;32mreturn\u001b[0m \u001b[0mtf\u001b[0m\u001b[0;34m.\u001b[0m\u001b[0mcontrib\u001b[0m\u001b[0;34m.\u001b[0m\u001b[0mpredictor\u001b[0m\u001b[0;34m.\u001b[0m\u001b[0mfrom_saved_model\u001b[0m\u001b[0;34m(\u001b[0m\u001b[0mexport_dir\u001b[0m \u001b[0;34m=\u001b[0m \u001b[0msaved_model_dir\u001b[0m\u001b[0;34m,\u001b[0m\u001b[0msignature_def_key\u001b[0m\u001b[0;34m=\u001b[0m\u001b[0;34m\"prediction\"\u001b[0m\u001b[0;34m)\u001b[0m\u001b[0;34m\u001b[0m\u001b[0m\n\u001b[1;32m     11\u001b[0m \u001b[0;34m\u001b[0m\u001b[0m\n\u001b[0;32m---> 12\u001b[0;31m output_dict = {\"mdl0\": predictor(MDL_0), \"mdl1\": predictor(MDL_1), \"mdl2\": predictor(MDL_2), \n\u001b[0m\u001b[1;32m     13\u001b[0m                \"mdl3\": predictor(MDL_3)}\n\u001b[1;32m     14\u001b[0m \u001b[0moutput\u001b[0m \u001b[0;34m=\u001b[0m \u001b[0;32mlambda\u001b[0m \u001b[0mmdl\u001b[0m\u001b[0;34m,\u001b[0m \u001b[0msentence\u001b[0m\u001b[0;34m:\u001b[0m \u001b[0moutput_dict\u001b[0m\u001b[0;34m[\u001b[0m\u001b[0mmdl\u001b[0m\u001b[0;34m]\u001b[0m\u001b[0;34m(\u001b[0m\u001b[0;34m{\u001b[0m\u001b[0;34m'sentence'\u001b[0m\u001b[0;34m:\u001b[0m\u001b[0msentence\u001b[0m\u001b[0;34m}\u001b[0m\u001b[0;34m)\u001b[0m\u001b[0;34m\u001b[0m\u001b[0m\n",
      "\u001b[0;32m<ipython-input-135-fe118ba6ea71>\u001b[0m in \u001b[0;36mpredictor\u001b[0;34m(model_name)\u001b[0m\n\u001b[1;32m      7\u001b[0m     \u001b[0mmodel_dir\u001b[0m \u001b[0;34m=\u001b[0m \u001b[0mos\u001b[0m\u001b[0;34m.\u001b[0m\u001b[0mpath\u001b[0m\u001b[0;34m.\u001b[0m\u001b[0mjoin\u001b[0m\u001b[0;34m(\u001b[0m\u001b[0mos\u001b[0m\u001b[0;34m.\u001b[0m\u001b[0mgetcwd\u001b[0m\u001b[0;34m(\u001b[0m\u001b[0;34m)\u001b[0m\u001b[0;34m,\u001b[0m\u001b[0;34m'trained_models_e/{}'\u001b[0m\u001b[0;34m.\u001b[0m\u001b[0mformat\u001b[0m\u001b[0;34m(\u001b[0m\u001b[0mmodel_name\u001b[0m\u001b[0;34m)\u001b[0m\u001b[0;34m)\u001b[0m\u001b[0;34m\u001b[0m\u001b[0m\n\u001b[1;32m      8\u001b[0m     \u001b[0mexport_dir\u001b[0m \u001b[0;34m=\u001b[0m \u001b[0mmodel_dir\u001b[0m \u001b[0;34m+\u001b[0m\u001b[0;34m\"/export/predict/\"\u001b[0m\u001b[0;34m\u001b[0m\u001b[0m\n\u001b[0;32m----> 9\u001b[0;31m     \u001b[0msaved_model_dir\u001b[0m\u001b[0;34m=\u001b[0m \u001b[0mexport_dir\u001b[0m \u001b[0;34m+\u001b[0m \u001b[0;34m\"/\"\u001b[0m \u001b[0;34m+\u001b[0m \u001b[0mos\u001b[0m\u001b[0;34m.\u001b[0m\u001b[0mlistdir\u001b[0m\u001b[0;34m(\u001b[0m\u001b[0mpath\u001b[0m\u001b[0;34m=\u001b[0m\u001b[0mexport_dir\u001b[0m\u001b[0;34m)\u001b[0m\u001b[0;34m[\u001b[0m\u001b[0;34m-\u001b[0m\u001b[0;36m1\u001b[0m\u001b[0;34m]\u001b[0m\u001b[0;34m\u001b[0m\u001b[0m\n\u001b[0m\u001b[1;32m     10\u001b[0m     \u001b[0;32mreturn\u001b[0m \u001b[0mtf\u001b[0m\u001b[0;34m.\u001b[0m\u001b[0mcontrib\u001b[0m\u001b[0;34m.\u001b[0m\u001b[0mpredictor\u001b[0m\u001b[0;34m.\u001b[0m\u001b[0mfrom_saved_model\u001b[0m\u001b[0;34m(\u001b[0m\u001b[0mexport_dir\u001b[0m \u001b[0;34m=\u001b[0m \u001b[0msaved_model_dir\u001b[0m\u001b[0;34m,\u001b[0m\u001b[0msignature_def_key\u001b[0m\u001b[0;34m=\u001b[0m\u001b[0;34m\"prediction\"\u001b[0m\u001b[0;34m)\u001b[0m\u001b[0;34m\u001b[0m\u001b[0m\n\u001b[1;32m     11\u001b[0m \u001b[0;34m\u001b[0m\u001b[0m\n",
      "\u001b[0;31mFileNotFoundError\u001b[0m: [Errno 2] No such file or directory: '/home/asr/prj_SlotTagger/dnn_infer/trained_models_e/e-lstm32-32-gloff-emb20-bs512-lr1em5-exp-func_voc20k/export/predict/'"
     ]
    }
   ],
   "source": [
    "MDL_0 = 'e-lstm32-32-gloff-emb20-bs512-lr1em5-exp-func_voc20k'\n",
    "MDL_1 = 'e-lstm32-32-gloff-emb20-bs512-lr1em4-exp-func_voc20k' #cnn16lstm16-16-gloff-emb20-bs512-lr1em4-exp_voc10k'\n",
    "MDL_2 = 'e-lstm8-gloff-emb20-bs512-lr1em3-exp-func_voc20k'\n",
    "MDL_3 = 'e-cnn16-size3-gloff-emb20-bs512-lr1em5-exp-func_voc20k'\n",
    "\n",
    "def predictor(model_name):\n",
    "    model_dir = os.path.join(os.getcwd(),'trained_models_e/{}'.format(model_name))\n",
    "    export_dir = model_dir +\"/export/predict/\"\n",
    "    saved_model_dir= export_dir + \"/\" + os.listdir(path=export_dir)[-1]  \n",
    "    return tf.contrib.predictor.from_saved_model(export_dir = saved_model_dir,signature_def_key=\"prediction\")\n",
    "\n",
    "output_dict = {\"mdl0\": predictor(MDL_0), \"mdl1\": predictor(MDL_1), \"mdl2\": predictor(MDL_2), \n",
    "               \"mdl3\": predictor(MDL_3)}\n",
    "output = lambda mdl, sentence: output_dict[mdl]({'sentence':sentence})\n",
    "\n",
    "def prediction(list_of_sentences, model):\n",
    "    return output(model, list_of_sentences)['probabilities'][0:]\n",
    "\n",
    "def transform(sentence, mdl):\n",
    "    s = str(sentence)\n",
    "    s = re.sub(r\"\\bè\\b\",\"tannutuva\", s)\n",
    "    s = re.sub(r\"\\be\\b\",\"tannutuva\", s)\n",
    "    mdl = str(mdl)\n",
    "    prob = np.around(output(mdl, [s])['probabilities'][0:],decimals=3)\n",
    "    #pred = np.around(output(mdl, [s])['probabilities'][0:],decimals=0)\n",
    "    if prob[0,0] < 0.5:\n",
    "        s = re.sub(r\"\\btannutuva\\b\",\"è\", s)\n",
    "    else: \n",
    "        s = re.sub(r\"\\btannutuva\\b\",\"e\", s)\n",
    "    return s, prob"
   ]
  },
  {
   "cell_type": "code",
   "execution_count": 90,
   "metadata": {},
   "outputs": [
    {
     "name": "stdout",
     "output_type": "stream",
     "text": [
      "------------- mdl0 --------------\n",
      "('luca è bello', array([[0.015, 0.985]], dtype=float32))\n",
      "(\"oggi c'è il sole\", array([[0.004, 0.996]], dtype=float32))\n",
      "('gli anni andavano avanti e lui invecchiava', array([[0.993, 0.007]], dtype=float32))\n",
      "('è sabato o domenica?', array([[0.485, 0.515]], dtype=float32))\n",
      "(\"chissà cos'è che non va?\", array([[0.005, 0.995]], dtype=float32))\n",
      "(\"a lui è andato male l'esame\", array([[0.002, 0.998]], dtype=float32))\n",
      "(\"andiamo al mare e poi in montagna quest'estate\", array([[0.99, 0.01]], dtype=float32))\n",
      "(\"andiamo al mare è in montagna quest'estate\", array([[0.156, 0.844]], dtype=float32))\n",
      "(\"sai dirmi di che colore è l'arcobaleno\", array([[0.498, 0.502]], dtype=float32))\n",
      "('sai dirmi chi è brad pitt?', array([[0.022, 0.978]], dtype=float32))\n",
      "('sai chi è brad pitt?', array([[0.068, 0.932]], dtype=float32))\n",
      "------------- mdl1 --------------\n",
      "('luca è bello', array([[0.043, 0.957]], dtype=float32))\n",
      "(\"oggi c'è il sole\", array([[0.001, 0.999]], dtype=float32))\n",
      "('gli anni andavano avanti e lui invecchiava', array([[0.997, 0.003]], dtype=float32))\n",
      "('e sabato o domenica?', array([[0.711, 0.289]], dtype=float32))\n",
      "(\"chissà cos'è che non va?\", array([[0.002, 0.998]], dtype=float32))\n",
      "(\"a lui è andato male l'esame\", array([[0., 1.]], dtype=float32))\n",
      "(\"andiamo al mare e poi in montagna quest'estate\", array([[0.972, 0.028]], dtype=float32))\n",
      "(\"andiamo al mare è in montagna quest'estate\", array([[0.265, 0.735]], dtype=float32))\n",
      "(\"sai dirmi di che colore è l'arcobaleno\", array([[0.023, 0.977]], dtype=float32))\n",
      "('sai dirmi chi è brad pitt?', array([[0.032, 0.968]], dtype=float32))\n",
      "('sai chi e brad pitt?', array([[0.622, 0.378]], dtype=float32))\n",
      "------------- mdl2 --------------\n",
      "('luca e bello', array([[0.931, 0.069]], dtype=float32))\n",
      "(\"oggi c'è il sole\", array([[0., 1.]], dtype=float32))\n",
      "('gli anni andavano avanti e lui invecchiava', array([[1., 0.]], dtype=float32))\n",
      "('è sabato o domenica?', array([[0.479, 0.521]], dtype=float32))\n",
      "(\"chissà cos'è che non va?\", array([[0., 1.]], dtype=float32))\n",
      "(\"a lui è andato male l'esame\", array([[0., 1.]], dtype=float32))\n",
      "(\"andiamo al mare e poi in montagna quest'estate\", array([[1., 0.]], dtype=float32))\n",
      "(\"andiamo al mare è in montagna quest'estate\", array([[0., 1.]], dtype=float32))\n",
      "(\"sai dirmi di che colore è l'arcobaleno\", array([[0., 1.]], dtype=float32))\n",
      "('sai dirmi chi è brad pitt?', array([[0.001, 0.999]], dtype=float32))\n",
      "('sai chi e brad pitt?', array([[0.989, 0.011]], dtype=float32))\n",
      "------------- mdl3 --------------\n",
      "('luca è bello', array([[0.239, 0.761]], dtype=float32))\n",
      "(\"oggi c'è il sole\", array([[0.032, 0.968]], dtype=float32))\n",
      "('gli anni andavano avanti e lui invecchiava', array([[0.751, 0.249]], dtype=float32))\n",
      "('e sabato o domenica?', array([[0.612, 0.388]], dtype=float32))\n",
      "(\"chissà cos'è che non va?\", array([[0.108, 0.892]], dtype=float32))\n",
      "(\"a lui è andato male l'esame\", array([[0.134, 0.866]], dtype=float32))\n",
      "(\"andiamo al mare e poi in montagna quest'estate\", array([[0.848, 0.152]], dtype=float32))\n",
      "(\"andiamo al mare e in montagna quest'estate\", array([[0.688, 0.312]], dtype=float32))\n",
      "(\"sai dirmi di che colore è l'arcobaleno\", array([[0.276, 0.724]], dtype=float32))\n",
      "('sai dirmi chi è brad pitt?', array([[0.422, 0.578]], dtype=float32))\n",
      "('sai chi e brad pitt?', array([[0.53, 0.47]], dtype=float32))\n"
     ]
    }
   ],
   "source": [
    "for mdl in ['mdl0', 'mdl1', 'mdl2', 'mdl3']:\n",
    "    print('------------- %s --------------' %(mdl))\n",
    "    print(transform(\"luca e bello\", mdl))\n",
    "    print(transform(\"oggi c'e il sole\", mdl))\n",
    "    print(transform(\"gli anni andavano avanti è lui invecchiava\", mdl))\n",
    "    print(transform(\"e sabato o domenica?\", mdl))\n",
    "    print(transform(\"chissà cos'e che non va?\", mdl))\n",
    "    print(transform(\"a lui e andato male l'esame\", mdl))\n",
    "    print(transform(\"andiamo al mare è poi in montagna quest'estate\", mdl))\n",
    "    print(transform(\"andiamo al mare è in montagna quest'estate\", mdl))\n",
    "    print(transform(\"sai dirmi di che colore e l'arcobaleno\", mdl))\n",
    "    print(transform(\"sai dirmi chi e brad pitt?\", mdl))\n",
    "    print(transform(\"sai chi e brad pitt?\", mdl))"
   ]
  },
  {
   "cell_type": "code",
   "execution_count": 56,
   "metadata": {},
   "outputs": [
    {
     "name": "stdout",
     "output_type": "stream",
     "text": [
      "('siri è meglio di bixby', array([[0.007, 0.993]], dtype=float32))\n",
      "('qual è la tua opinione su google assistant', array([[0.004, 0.996]], dtype=float32))\n",
      "(\"chi è meglio tu o l'assistente google\", array([[0.008, 0.992]], dtype=float32))\n",
      "(\"l'antivirus è attivo\", array([[0.007, 0.993]], dtype=float32))\n",
      "('sai qual è il mio nome', array([[0.001, 0.999]], dtype=float32))\n",
      "('mostrami la mail che è appena arrivata', array([[0.001, 0.999]], dtype=float32))\n",
      "('google assistant è tuo amico', array([[0.07, 0.93]], dtype=float32))\n",
      "('chi è la migliore apple o samsung', array([[0.104, 0.896]], dtype=float32))\n",
      "('qual è il miglior telefono sul mercato', array([[0.003, 0.997]], dtype=float32))\n",
      "('mostrami le migliori app nuove e gratuite', array([[0.999, 0.001]], dtype=float32))\n",
      "('cerca su yelp delle pizzerie ad uno e due euro', array([[0.997, 0.003]], dtype=float32))\n",
      "(\"manda un'email a tommaso con il titolo ciao e con il messaggio miao\", array([[0.979, 0.021]], dtype=float32))\n",
      "('spegni il timer della fotocamera posteriore e fai una foto', array([[0.902, 0.098]], dtype=float32))\n",
      "('tu e siri siete amiche', array([[0.762, 0.238]], dtype=float32))\n",
      "('ho bisogno di un esperto per eventi e feste', array([[1., 0.]], dtype=float32))\n",
      "('metti la musica del duemila e cinque', array([[1., 0.]], dtype=float32))\n",
      "('chiudi porte e finestre', array([[1., 0.]], dtype=float32))\n",
      "('potresti fare uno screenshot è condividerlo via facebook', array([[0.221, 0.779]], dtype=float32))\n",
      "(\"aggiungi un'altra sveglia alle sette e quarantacinque\", array([[0.96, 0.04]], dtype=float32))\n",
      "('ricordami di andare in palestra lunedì e mercoledì alle quattordici', array([[1., 0.]], dtype=float32))\n",
      "('cambia la mia sveglia delle sette da giornaliera alle sette e trenta', array([[0.996, 0.004]], dtype=float32))\n",
      "('chi è più intelligente tra te è cortana', array([[0.171, 0.829]], dtype=float32))\n",
      "('cerca la chiamata al due due tre tre e cancellala', array([[0.995, 0.005]], dtype=float32))\n",
      "(\"lucia rossi mi ha mandato un messaggio e l'ho letto cancellalo\", array([[0.999, 0.001]], dtype=float32))\n",
      "('conosci siri e alexa', array([[0.864, 0.136]], dtype=float32))\n",
      "('fai uno screenshot è condividilo via whatsapp', array([[0.385, 0.615]], dtype=float32))\n",
      "('mostrami la schermata di impostazioni per la ricezione e rifiuto delle chiamate', array([[0.989, 0.011]], dtype=float32))\n",
      "('salva la schermata e condividila', array([[0.541, 0.459]], dtype=float32))\n",
      "('cerca dei ristoranti fra i tre e i quattro euro', array([[0.999, 0.001]], dtype=float32))\n",
      "('qual è il posto migliore per nascondere un corpo', array([[0.002, 0.998]], dtype=float32))\n",
      "('cortana è il tuo nome', array([[0.091, 0.909]], dtype=float32))\n",
      "('chi è più intelligente tu o il google assistant', array([[0.03, 0.97]], dtype=float32))\n",
      "('la samsung è meglio di apple', array([[0.02, 0.98]], dtype=float32))\n",
      "('chi è più intelligente bixby o cortana', array([[0.032, 0.968]], dtype=float32))\n",
      "('samsung è peggio di apple', array([[0.022, 0.978]], dtype=float32))\n",
      "(\"qual è l'aspettativa di vita media delle libellule\", array([[0.006, 0.994]], dtype=float32))\n",
      "(\"qual è l'ultimo file apk installato nella memoria interna\", array([[0.002, 0.998]], dtype=float32))\n",
      "('qual è la capitale dello zimbabwe', array([[0.004, 0.996]], dtype=float32))\n",
      "('chi è tua madre', array([[0.454, 0.546]], dtype=float32))\n"
     ]
    }
   ],
   "source": [
    "with tf.gfile.GFile(os.path.join('/home/asr/nlp_lab/sentence_testing/test_e'), \"rb\") as f:\n",
    "                # strip() removes white spaces before and after the string\n",
    "                # decode() converst a byte object ('b) in a python3 string\n",
    "                test_sentences = [s.strip().decode() for s in f.readlines()]\n",
    "\n",
    "#print(test_sentences)\n",
    "\n",
    "for sentence in test_sentences:\n",
    "    print(transform(sentence, 'mdl0'))"
   ]
  },
  {
   "cell_type": "code",
   "execution_count": 73,
   "metadata": {},
   "outputs": [
    {
     "name": "stdout",
     "output_type": "stream",
     "text": [
      "('quale paese è famoso per i tulipani', array([[0.088, 0.912]], dtype=float32))\n",
      "('quale paese è conosciuto per il cacao', array([[0.002, 0.998]], dtype=float32))\n",
      "('quale paese è noto per i burritos', array([[0.003, 0.997]], dtype=float32))\n",
      "('di che colore e l arcobaleno', array([[0.979, 0.021]], dtype=float32))\n",
      "('di che colore è il cielo', array([[0.282, 0.718]], dtype=float32))\n",
      "('chi e miss italia 2018', array([[0.95, 0.05]], dtype=float32))\n",
      "('chi e miss mondo 2018', array([[0.844, 0.156]], dtype=float32))\n",
      "('chi e brad pitt ?', array([[0.786, 0.214]], dtype=float32))\n",
      "('chi e giorgio napolitano ?', array([[0.999, 0.001]], dtype=float32))\n",
      "('chi e rita levi montalcini?', array([[0.865, 0.135]], dtype=float32))\n"
     ]
    }
   ],
   "source": [
    "tester_sentences = ['quale paese e famoso per i tulipani',\n",
    "'quale paese e conosciuto per il cacao',\n",
    "'quale paese e noto per i burritos',\n",
    "'di che colore e l arcobaleno',\n",
    "'di che colore e il cielo',\n",
    "'chi e miss italia 2018',\n",
    "'chi e miss mondo 2018',\n",
    "'chi e brad pitt ?',\n",
    "'chi e giorgio napolitano ?',\n",
    "'chi e rita levi montalcini ?']\n",
    "\n",
    "for sentence in tester_sentences:\n",
    "    print(transform(sentence, 'mdl1'))"
   ]
  },
  {
   "cell_type": "markdown",
   "metadata": {},
   "source": [
    "## Timing "
   ]
  },
  {
   "cell_type": "code",
   "execution_count": 60,
   "metadata": {},
   "outputs": [
    {
     "name": "stdout",
     "output_type": "stream",
     "text": [
      "1.49 ms ± 22 µs per loop (mean ± std. dev. of 10 runs, 10000 loops each)\n",
      "1.55 ms ± 25.6 µs per loop (mean ± std. dev. of 10 runs, 10000 loops each)\n",
      "1.68 ms ± 17.9 µs per loop (mean ± std. dev. of 10 runs, 10000 loops each)\n"
     ]
    }
   ],
   "source": [
    "%timeit -r10 -n10000 prediction(['ciao sei stato davvero fortunato oggi al lavoro per quanto riguarda la questione di ieri'], 'mdl1')\n",
    "%timeit -r10 -n10000 prediction(['ciao sei stato davvero fortunato oggi al lavoro per quanto riguarda la questione di ieri'], 'mdl2')\n",
    "%timeit -r10 -n10000 prediction(['ciao sei stato davvero fortunato oggi al lavoro per quanto riguarda la questione di ieri'], 'mdl3')"
   ]
  }
 ],
 "metadata": {
  "celltoolbar": "Edit Metadata",
  "kernelspec": {
   "display_name": "Python 3",
   "language": "python",
   "name": "python3"
  },
  "language_info": {
   "codemirror_mode": {
    "name": "ipython",
    "version": 3
   },
   "file_extension": ".py",
   "mimetype": "text/x-python",
   "name": "python",
   "nbconvert_exporter": "python",
   "pygments_lexer": "ipython3",
   "version": "3.6.5"
  }
 },
 "nbformat": 4,
 "nbformat_minor": 2
}
