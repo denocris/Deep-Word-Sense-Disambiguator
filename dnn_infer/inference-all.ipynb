{
 "cells": [
  {
   "cell_type": "code",
   "execution_count": 54,
   "metadata": {},
   "outputs": [],
   "source": [
    "import tensorflow as tf\n",
    "from tensorflow import data\n",
    "import multiprocessing\n",
    "import numpy as np\n",
    "import os\n",
    "import re\n",
    "import itertools"
   ]
  },
  {
   "cell_type": "code",
   "execution_count": 355,
   "metadata": {},
   "outputs": [],
   "source": [
    "#mdl_ha= 'ha_bilstm16_emb8_dr08_lr1m4-25-1m3_bs256_voc15k-swin_v43'\n",
    "mdl_ha= 'ha_bilstm32_emb8_dr08_lr5m4-25-5m3_bs256_voc15k-swin_v48'\n",
    "mdl_è = 'è_bilstm16_emb8_dr08_lr5m3-0p3eps-1m3-1eps-5m4_bs256_voc15k-swin_v46'\n",
    "mdl_hai = 'hai_bilstm32_emb8_dr08_lr5m5-25eps-5m6-50eps-1p4m4_bs256_voc15k-swin_v12'\n",
    "mdl_ho = 'ho_bilstm16_emb8_dr08_lr1m2-5eps-1m3-15eps-1p4m4_bs256_voc15k-swin_v39'\n",
    "mdl_sarà = 'sarà_bilstm16_emb8_dr08_lr1m3-3eps-1m3_bs256_voc15k-swin_v9'\n",
    "#mdl_sei = 'sei_lstm32_emb5_dr08_lr5m3-6eps-1m4-exdec_voc10k-swin_v6'\n",
    "mdl_sei = 'sei_lstm32_emb5_dr08_lr5m3-6eps-1m4-exdec_voc10k-swin_pb'\n",
    "#mdl_hanno = 'hanno_bilstm64_emb16_dr08_lr565-25eps-1m7-50eps-5m8_bs256_voc10k_v23'\n",
    "mdl_hanno = 'hanno_bilstm32_emb16_dr08_lr5m4-25eps-1m3-50eps-5m5_bs256_voc10k_v22'\n",
    "mdl_i = 'i_bilstm32_emb8_dr08_lr5m4-25eps-5m6-50eps-1p4m4_bs256_voc15k-swin_v6'\n"
   ]
  },
  {
   "cell_type": "code",
   "execution_count": 356,
   "metadata": {},
   "outputs": [],
   "source": [
    "def predictor(model_name):\n",
    "    amb = model_name.split('_')[0]\n",
    "    model_dir = '../checkpoints/checkpoints_'+amb+'/{}'.format(model_name)\n",
    "    #model_dir = os.path.join(os.getcwd(),'trained_models_six/{}'.format(model_name))\n",
    "    export_dir = model_dir + \"/export/predict/\"\n",
    "    saved_model_dir= export_dir + \"/\" + os.listdir(path=export_dir)[-1]  \n",
    "    return tf.contrib.predictor.from_saved_model(export_dir = saved_model_dir,signature_def_key=\"prediction\")\n",
    "\n",
    "output = lambda amb, sentence: mdl_amb_dict[amb]({'sentence':sentence})"
   ]
  },
  {
   "cell_type": "code",
   "execution_count": 357,
   "metadata": {
    "scrolled": false
   },
   "outputs": [
    {
     "name": "stdout",
     "output_type": "stream",
     "text": [
      "INFO:tensorflow:Restoring parameters from b'../checkpoints/checkpoints_ha/ha_bilstm32_emb8_dr08_lr5m4-25-5m3_bs256_voc15k-swin_v48/export/predict//1585829406/variables/variables'\n",
      "INFO:tensorflow:Restoring parameters from b'../checkpoints/checkpoints_ha/ha_bilstm32_emb8_dr08_lr5m4-25-5m3_bs256_voc15k-swin_v48/export/predict//1585829406/variables/variables'\n",
      "INFO:tensorflow:Restoring parameters from b'../checkpoints/checkpoints_\\xc3\\xa8/\\xc3\\xa8_bilstm16_emb8_dr08_lr5m3-0p3eps-1m3-1eps-5m4_bs256_voc15k-swin_v46/export/predict//1585663372/variables/variables'\n",
      "INFO:tensorflow:Restoring parameters from b'../checkpoints/checkpoints_\\xc3\\xa8/\\xc3\\xa8_bilstm16_emb8_dr08_lr5m3-0p3eps-1m3-1eps-5m4_bs256_voc15k-swin_v46/export/predict//1585663372/variables/variables'\n",
      "INFO:tensorflow:Restoring parameters from b'../checkpoints/checkpoints_hai/hai_bilstm32_emb8_dr08_lr5m5-25eps-5m6-50eps-1p4m4_bs256_voc15k-swin_v12/export/predict//1585748009/variables/variables'\n",
      "INFO:tensorflow:Restoring parameters from b'../checkpoints/checkpoints_hai/hai_bilstm32_emb8_dr08_lr5m5-25eps-5m6-50eps-1p4m4_bs256_voc15k-swin_v12/export/predict//1585748009/variables/variables'\n",
      "INFO:tensorflow:Restoring parameters from b'../checkpoints/checkpoints_ho/ho_bilstm16_emb8_dr08_lr1m2-5eps-1m3-15eps-1p4m4_bs256_voc15k-swin_v39/export/predict//1585062511/variables/variables'\n",
      "INFO:tensorflow:Restoring parameters from b'../checkpoints/checkpoints_ho/ho_bilstm16_emb8_dr08_lr1m2-5eps-1m3-15eps-1p4m4_bs256_voc15k-swin_v39/export/predict//1585062511/variables/variables'\n",
      "INFO:tensorflow:Restoring parameters from b'../checkpoints/checkpoints_hanno/hanno_bilstm32_emb16_dr08_lr5m4-25eps-1m3-50eps-5m5_bs256_voc10k_v22/export/predict//1581083276/variables/variables'\n",
      "INFO:tensorflow:Restoring parameters from b'../checkpoints/checkpoints_hanno/hanno_bilstm32_emb16_dr08_lr5m4-25eps-1m3-50eps-5m5_bs256_voc10k_v22/export/predict//1581083276/variables/variables'\n",
      "INFO:tensorflow:Restoring parameters from b'../checkpoints/checkpoints_sar\\xc3\\xa0/sar\\xc3\\xa0_bilstm16_emb8_dr08_lr1m3-3eps-1m3_bs256_voc15k-swin_v9/export/predict//1573053409/variables/variables'\n",
      "INFO:tensorflow:Restoring parameters from b'../checkpoints/checkpoints_sar\\xc3\\xa0/sar\\xc3\\xa0_bilstm16_emb8_dr08_lr1m3-3eps-1m3_bs256_voc15k-swin_v9/export/predict//1573053409/variables/variables'\n",
      "INFO:tensorflow:Restoring parameters from b'../checkpoints/checkpoints_sei/sei_lstm32_emb5_dr08_lr5m3-6eps-1m4-exdec_voc10k-swin_pb/export/predict//1550592519/variables/variables'\n",
      "INFO:tensorflow:Restoring parameters from b'../checkpoints/checkpoints_sei/sei_lstm32_emb5_dr08_lr5m3-6eps-1m4-exdec_voc10k-swin_pb/export/predict//1550592519/variables/variables'\n",
      "\n",
      " ['6', 'e', 'sarà', 'è', 'o', 'a', 'sei', 'anno', 'sara', 'ha', 'hanno', 'hai', 'ai', 'ho']\n"
     ]
    }
   ],
   "source": [
    "mdl_amb_dict = {'ha': predictor(mdl_ha), 'a': predictor(mdl_ha), \n",
    "                'è': predictor(mdl_è), 'e': predictor(mdl_è),\n",
    "                'hai': predictor(mdl_hai), 'ai': predictor(mdl_hai),\n",
    "               'ho': predictor(mdl_ho), 'o': predictor(mdl_ho),\n",
    "               'hanno': predictor(mdl_hanno), 'anno': predictor(mdl_hanno),\n",
    "               'sarà': predictor(mdl_sarà), 'sara': predictor(mdl_sarà),\n",
    "               'sei': predictor(mdl_sei), '6': predictor(mdl_sei)}\n",
    "\n",
    "amb_list = list(mdl_amb_dict.keys())\n",
    "print('\\n', amb_list)\n",
    "\n",
    "ha_class_dict = {'0': 'ha', '1': 'a'}\n",
    "è_class_dict = {'0': 'è', '1': 'e'}\n",
    "hai_class_dict = {'0': 'hai', '1': 'ai'}\n",
    "ho_class_dict = {'0': 'ho', '1': 'o'}\n",
    "hanno_class_dict = {'0': 'hanno', '1': 'anno'}\n",
    "sarà_class_dict = {'0': 'sarà', '1': 'sara'}\n",
    "sei_class_dict = {'0': 'sei', '1': '6'}\n",
    "\n",
    "\n",
    "amb_class_dicts = {'ha': ha_class_dict, 'a': ha_class_dict, 'è': è_class_dict, 'e': è_class_dict,\n",
    "                  'hai': hai_class_dict, 'ai': hai_class_dict, 'ho': ho_class_dict, 'o': ho_class_dict,\n",
    "                  'hanno': hanno_class_dict, 'anno': hanno_class_dict, 'sarà': sarà_class_dict, 'sara': sarà_class_dict,\n",
    "                  'sei': sei_class_dict, '6': sei_class_dict}\n",
    "\n",
    "amb_siblings_dict={'ha': 'a', 'è': 'e', 'hai': 'ai', 'ho': 'o', 'hanno': 'anno', 'sarà': 'sara', 'sei':'6'}\n",
    "\n",
    "output = lambda amb, sentence: mdl_amb_dict[amb]({'sentence':sentence})"
   ]
  },
  {
   "cell_type": "code",
   "execution_count": 358,
   "metadata": {},
   "outputs": [
    {
     "data": {
      "text/plain": [
       "('in che anno siamo', [[0.099, 0.901]])"
      ]
     },
     "execution_count": 358,
     "metadata": {},
     "output_type": "execute_result"
    }
   ],
   "source": [
    "def transform(sentence, PRINT=False):\n",
    "    s = str(sentence)\n",
    "    s = s.rstrip().lower()\n",
    "    probs = []\n",
    "    if PRINT: print(s) \n",
    "    for amb in amb_list:\n",
    "        if amb in s.split(' '):\n",
    "            s = re.sub(r\"\\b%s\\b\" %(amb),\"tannutuva\", s)\n",
    "            if PRINT: print(s, '    ', amb)\n",
    "            prob = np.around(output(amb, [s])['probabilities'][0:], decimals=3)\n",
    "            probs.append(list(prob[0]))\n",
    "            if prob[0,0] > 0.5:\n",
    "                label='0' \n",
    "                s = re.sub(r\"\\btannutuva\\b\",amb_class_dicts[amb][label], s)\n",
    "                if PRINT: print(s, '    ', label)\n",
    "            else: \n",
    "                label='1' \n",
    "                s = re.sub(r\"\\btannutuva\\b\",amb_class_dicts[amb][label], s)\n",
    "                if PRINT: print(s, '    ', label)\n",
    "        else:\n",
    "            if PRINT: print(s)\n",
    "            continue\n",
    "    return s, probs\n",
    "\n",
    "\n",
    "            \n",
    "transform('a tre anni e mezzo ho quattro')           \n",
    "transform('il meteo oggi a massa') \n",
    "transform('che tempo fa oggi a l aquila') \n",
    "transform('che tempo fa oggi a trenta') \n",
    "transform('in che anno siamo') "
   ]
  },
  {
   "cell_type": "code",
   "execution_count": 362,
   "metadata": {
    "scrolled": true
   },
   "outputs": [
    {
     "data": {
      "text/plain": [
       "('che tempo oggi a reggio emilia', [[0.009, 0.991]])"
      ]
     },
     "execution_count": 362,
     "metadata": {},
     "output_type": "execute_result"
    }
   ],
   "source": [
    "transform('che tempo fa oggi a soiano e domani o ieri') \n",
    "transform('hai degli impegni oggi o nel weekend e cosa vorresti fare') \n",
    "transform('hai visto al cinema o a casa il film di woody allen') \n",
    "transform('cosa è che vogliamo fare stasera o domani') \n",
    "transform('aggiungi hai preferiti della rubrica il contatto visa') \n",
    "\n",
    "\n",
    "\n",
    "transform('di che anno è la canzone torero camillo') \n",
    "transform('che tempo oggi a reggio emilia') "
   ]
  },
  {
   "cell_type": "code",
   "execution_count": 363,
   "metadata": {},
   "outputs": [],
   "source": [
    "def test_on_tickets(file,):\n",
    "    \n",
    "    file  = [ line.rstrip().lower() for line in file]\n",
    "    file  = list(file)\n",
    "    tot_sents = len(file)\n",
    "    tot_amb = 0\n",
    "    \n",
    "    cnt_wrg = 0\n",
    "    tot_amb = 0\n",
    "    # boolean that is True if postagging is active (ex model name: è_pos_blablabla)\n",
    "    for s in file:\n",
    "        transformed = transform(str(s))\n",
    "        if transformed[0] != s:\n",
    "            cnt_wrg += 1\n",
    "            print('tr :', transformed)\n",
    "            \n",
    "        \n",
    "    #print('--------------------', cnt_wrg, tot_amb, cnt_wrg/float(tot_amb)*100.0)"
   ]
  },
  {
   "cell_type": "code",
   "execution_count": 364,
   "metadata": {
    "scrolled": true
   },
   "outputs": [
    {
     "name": "stdout",
     "output_type": "stream",
     "text": [
      "---------------\n",
      "\n",
      "tr : ('nove 6 due otto da roma termini è in orario', [[0.966, 0.034], [0.0, 1.0]])\n",
      "tr : ('invieresti un sms per me il destinatario è marta è il messaggio è di a saverio che lo chiamo più tardi o gli scrivo qualcosa', [[0.735, 0.265], [0.996, 0.004], [0.011, 0.989], [0.0, 1.0]])\n",
      "tr : ('che ora è è che giorno è oggi', [[0.734, 0.266], [0.943, 0.057]])\n",
      "tr : ('che giorno è oggi è che ore sono', [[0.843, 0.157], [0.794, 0.206]])\n",
      "tr : ('che giorno e e che ore sono oggi', [[0.171, 0.829], [0.325, 0.675]])\n",
      "tr : ('che giorno è che ora è oggi', [[0.775, 0.225], [0.92, 0.08]])\n",
      "tr : ('nove 6 due otto da roma termini è in orario', [[0.966, 0.034], [0.0, 1.0]])\n",
      "tr : ('è a gennaio', [[0.991, 0.009], [0.991, 0.009], [0.101, 0.899]])\n",
      "tr : ('è a febbraio', [[0.996, 0.004], [0.996, 0.004], [0.097, 0.903]])\n",
      "tr : ('è a marzo', [[0.993, 0.007], [0.993, 0.007], [0.138, 0.862]])\n",
      "tr : ('è a maggio', [[0.993, 0.007], [0.993, 0.007], [0.06, 0.94]])\n",
      "tr : ('è a giugno', [[0.994, 0.006], [0.994, 0.006], [0.094, 0.906]])\n",
      "tr : ('è a luglio', [[0.984, 0.016], [0.984, 0.016], [0.149, 0.851]])\n",
      "tr : ('è a settembre', [[0.987, 0.013], [0.987, 0.013], [0.088, 0.912]])\n",
      "tr : ('è a ottobre', [[0.997, 0.003], [0.997, 0.003], [0.089, 0.911]])\n",
      "tr : ('è a novembre', [[0.988, 0.012], [0.988, 0.012], [0.124, 0.876]])\n",
      "tr : ('è a dicembre', [[0.982, 0.018], [0.982, 0.018], [0.091, 0.909]])\n",
      "tr : ('è a natale', [[0.728, 0.272], [0.728, 0.272], [0.015, 0.985]])\n",
      "tr : ('è a pasqua', [[0.689, 0.311], [0.689, 0.311], [0.034, 0.966]])\n",
      "tr : ('è a pasquetta', [[0.735, 0.265], [0.735, 0.265], [0.133, 0.867]])\n",
      "tr : ('è a ferragosto', [[0.735, 0.265], [0.735, 0.265], [0.133, 0.867]])\n",
      "tr : ('è a pranzo', [[0.806, 0.194], [0.806, 0.194], [0.018, 0.982]])\n",
      "tr : ('è a cena', [[0.74, 0.26], [0.74, 0.26], [0.007, 0.993]])\n",
      "---------------\n",
      "\n",
      "tr : ('imposta una sveglia alle 6', [[0.0, 1.0]])\n",
      "tr : ('cambia la sveglia delle sette alle 6', [[0.0, 1.0]])\n",
      "tr : ('aggiungi un nuovo contatto con nome ottavia e numero telefonico uno due tre quattro cinque 6 sette otto nove dieci', [[0.001, 0.999], [0.0, 1.0]])\n",
      "---------------\n",
      "\n",
      "tr : ('aggiungi 6 al risultato di prima', [[0.0, 1.0]])\n",
      "tr : ('per favore abilita tutte le sveglie tra le 6 e le otto', [[0.0, 1.0], [0.0, 1.0]])\n",
      "tr : ('chi è meglio tra te è l echo', [[0.777, 0.223], [0.693, 0.307]])\n",
      "tr : ('aggiungi 6 al risultato di prima', [[0.0, 1.0]])\n",
      "---------------\n",
      "\n",
      "---------------\n",
      "\n",
      "tr : ('di che hanno è hanno ucciso l uomo ragno', [[0.996, 0.004], [0.995, 0.005], [0.995, 0.005]])\n",
      "tr : ('ehi bixby di che hanno la canzone di the who è j balvin giù giù giù', [[0.996, 0.004], [0.996, 0.004], [0.581, 0.419], [0.581, 0.419]])\n",
      "tr : ('di che hanno l undici febbraio', [[0.823, 0.177], [0.823, 0.177]])\n",
      "tr : ('di che hanno', [[0.863, 0.137], [0.863, 0.137]])\n",
      "tr : ('bixby di che hanno 6', [[0.001, 0.999], [0.954, 0.046], [0.954, 0.046]])\n",
      "tr : ('di che hanno', [[0.863, 0.137], [0.863, 0.137]])\n",
      "tr : ('di che anno e mamma portami a ballare di luca barbarossa', [[0.226, 0.774], [0.0, 1.0], [0.109, 0.891]])\n",
      "tr : ('in che hanno ti hanno creato', [[0.887, 0.113], [0.999, 0.001]])\n",
      "tr : ('in che hanno hanno scoperto l america', [[0.871, 0.129], [0.999, 0.001]])\n",
      "tr : ('mi dici in che hanno hanno ammazzato aldo moro', [[0.996, 0.004], [1.0, 0.0]])\n",
      "tr : ('in che hanno hanno inventato gli oreo', [[0.966, 0.034], [0.999, 0.001]])\n",
      "tr : ('in che anno anno costruito la tour eiffel', [[0.201, 0.799], [0.446, 0.554]])\n",
      "tr : ('in che hanno hanno scoperto l america', [[0.871, 0.129], [0.999, 0.001]])\n",
      "tr : ('mi dici in che hanno hanno ammazzato aldo moro', [[0.996, 0.004], [1.0, 0.0]])\n",
      "tr : ('in che hanno hanno inventato gli oreo', [[0.966, 0.034], [0.999, 0.001]])\n",
      "tr : ('in che anno anno costruito la tour eiffel', [[0.201, 0.799], [0.446, 0.554]])\n",
      "tr : ('in che hanno ti hanno creato', [[0.887, 0.113], [0.999, 0.001]])\n",
      "tr : ('ciao cara vorrei una ricerca sulla storia italiana vorrei sapere in quale anno la donna dopo tante lotte a avuto il diritto alle elezioni', [[0.153, 0.847], [0.031, 0.969]])\n",
      "tr : ('distanza hanno luce', [[0.667, 0.333], [0.667, 0.333]])\n",
      "tr : ('spiegazione hanno luce', [[0.718, 0.282], [0.718, 0.282]])\n",
      "tr : ('ciao cara vorrei una ricerca sulla storia italiana vorrei sapere in quale anno la donna dopo tante lotte a avuto il diritto alle elezioni', [[0.153, 0.847], [0.031, 0.969]])\n",
      "tr : ('distanza hanno luce', [[0.667, 0.333], [0.667, 0.333]])\n",
      "tr : ('spiegazione hanno luce', [[0.718, 0.282], [0.718, 0.282]])\n",
      "---------------\n",
      "\n"
     ]
    }
   ],
   "source": [
    "#TicketsTest = open(\"../tickets_test/change_v1.txt\", \"r\")\n",
    "#TicketsTest = open(\"../tickets_test/regression_v1.txt\", \"r\")\n",
    "TicketsTest = open(\"../tickets_test/NeuralTaggerTicketsTest.txt\", \"r\")\n",
    "LoadTest = open(\"../tickets_test/NeuralTaggerLoadTest.txt\", \"r\")\n",
    "NRTest = open(\"../tickets_test/NeuralTaggerNonRegressionTicketsTest.txt\", \"r\")\n",
    "ASRGiulio = open(\"../tickets_test/NeuralTaggerASRfailureGiulio.txt\", \"r\")\n",
    "UMSHanno = open(\"../tickets_test/NeuralTaggerTicketsTest_hanno.txt\", \"r\")\n",
    "\n",
    "\n",
    "\n",
    "testlist = [TicketsTest, LoadTest, NRTest, ASRGiulio, UMSHanno ]\n",
    "print('---------------\\n')\n",
    "for test in testlist:\n",
    "    test_on_tickets(test)\n",
    "    print('---------------\\n')"
   ]
  },
  {
   "cell_type": "code",
   "execution_count": 169,
   "metadata": {},
   "outputs": [
    {
     "data": {
      "text/plain": [
       "('che tempo oggi ha reggio emilia', [[0.691, 0.309], [0.691, 0.309]])"
      ]
     },
     "execution_count": 169,
     "metadata": {},
     "output_type": "execute_result"
    }
   ],
   "source": [
    "transform('in che anno costruito la tour eiffel') \n",
    "transform('ho l infezione coronavirus') \n",
    "transform('ho l infezione del virus corona') \n",
    "transform('hai quiz pasquali') \n",
    "transform('se pensi che questo abbia un lieto fine non hai prestato attenzione') \n",
    "\n",
    "transform('che tempo oggi a reggio emilia')"
   ]
  },
  {
   "cell_type": "code",
   "execution_count": null,
   "metadata": {},
   "outputs": [],
   "source": [
    "imposta a uno il bilanciamento del colore dello schermo\n",
    "che tempo oggi a reggio emilia\n",
    "il tempo a ortonovo\n",
    "che ha fatto la serie a "
   ]
  },
  {
   "cell_type": "markdown",
   "metadata": {},
   "source": [
    "### i_e case "
   ]
  },
  {
   "cell_type": "code",
   "execution_count": 206,
   "metadata": {},
   "outputs": [
    {
     "name": "stdout",
     "output_type": "stream",
     "text": [
      "INFO:tensorflow:Restoring parameters from b'../checkpoints/checkpoints_i/i_bilstm32_emb8_dr08_lr5m4-25eps-5m6-50eps-1p4m4_bs256_voc15k-swin_v6/export/predict//1585757135/variables/variables'\n",
      "INFO:tensorflow:Restoring parameters from b'../checkpoints/checkpoints_i/i_bilstm32_emb8_dr08_lr5m4-25eps-5m6-50eps-1p4m4_bs256_voc15k-swin_v6/export/predict//1585757135/variables/variables'\n",
      "\n",
      " ['i', 'e']\n"
     ]
    }
   ],
   "source": [
    "mdl_amb_dict = {'i': predictor(mdl_i), 'e': predictor(mdl_i)}\n",
    "\n",
    "amb_list = list(mdl_amb_dict.keys())\n",
    "print('\\n', amb_list)\n",
    "\n",
    "i_class_dict = {'0': 'e', '1': 'i'}\n",
    "\n",
    "\n",
    "\n",
    "amb_class_dicts = { 'i': i_class_dict, 'e': i_class_dict}\n",
    "\n",
    "amb_siblings_dict={'i':'e'}\n",
    "\n",
    "output = lambda amb, sentence: mdl_amb_dict[amb]({'sentence':sentence})"
   ]
  },
  {
   "cell_type": "code",
   "execution_count": 225,
   "metadata": {},
   "outputs": [],
   "source": [
    "def transform(sentence, PRINT=False):\n",
    "    s = str(sentence)\n",
    "    s = s.rstrip().lower()\n",
    "    probs = []\n",
    "    if PRINT: print(s) \n",
    "    for amb in amb_list:\n",
    "        if amb in s.split(' '):\n",
    "            s = re.sub(r\"\\b%s\\b\" %(amb),\"tannutuva\", s)\n",
    "            if PRINT: print(s, '    ', amb)\n",
    "            prob = np.around(output(amb, [s])['probabilities'][0:], decimals=3)\n",
    "            probs.append(list(prob[0]))\n",
    "            if prob[0,0] > 0.5:\n",
    "                label='0' \n",
    "                s = re.sub(r\"\\btannutuva\\b\",amb_class_dicts[amb][label], s)\n",
    "                if PRINT: print(s, '    ', label)\n",
    "            else: \n",
    "                label='1' \n",
    "                s = re.sub(r\"\\btannutuva\\b\",amb_class_dicts[amb][label], s)\n",
    "                if PRINT: print(s, '    ', label)\n",
    "        else:\n",
    "            if PRINT: print(s)\n",
    "            continue\n",
    "    return s, probs\n",
    "\n",
    "\n",
    "def transform_ei(sentence, trigger=0.98, PRINT=False):\n",
    "    s = str(sentence)\n",
    "    s = s.rstrip().lower()\n",
    "    probs = []\n",
    "    for amb in ['i', 'e']:\n",
    "        if amb in s.split(' '):\n",
    "            if PRINT: print(s) \n",
    "            s = re.sub(r\"\\b%s\\b\" %(amb),\"tannutuva\", s)\n",
    "            if PRINT: print(s, '    ', amb)\n",
    "            prob = np.around(output('i', [s])['probabilities'][0:], decimals=3)\n",
    "            probs.append(list(prob[0]))\n",
    "            # change tannutuva to \"e\" only if you are above trigger (say 97%) sure!\n",
    "            if prob[0,0] > trigger:\n",
    "                label='0' \n",
    "                s = re.sub(r\"\\btannutuva\\b\",'e', s)\n",
    "                if PRINT: print(s, '    ', label)\n",
    "            else: \n",
    "                label='1' \n",
    "                s = re.sub(r\"\\btannutuva\\b\",'i', s)\n",
    "                if PRINT: print(s, '    ', label)\n",
    "        else:\n",
    "            continue\n",
    "    return s, probs\n",
    "\n",
    "#tu i siri siete amiche\n",
    "#screenshot i invia\n",
    "#qual è la distanza tra giove i marte"
   ]
  },
  {
   "cell_type": "code",
   "execution_count": 227,
   "metadata": {},
   "outputs": [
    {
     "name": "stdout",
     "output_type": "stream",
     "text": [
      "qual è la distanza tra giove i marte\n",
      "qual è la distanza tra giove tannutuva marte      i\n",
      "qual è la distanza tra giove e marte      0\n",
      "qual è la distanza tra giove e marte\n",
      "qual è la distanza tra giove tannutuva marte      e\n",
      "qual è la distanza tra giove e marte      0\n"
     ]
    },
    {
     "data": {
      "text/plain": [
       "('qual è la distanza tra giove e marte', [[0.959, 0.041], [0.959, 0.041]])"
      ]
     },
     "execution_count": 227,
     "metadata": {},
     "output_type": "execute_result"
    }
   ],
   "source": [
    "transform_ei('qual è la distanza tra giove i marte', trigger=0.90, PRINT=True) \n"
   ]
  },
  {
   "cell_type": "code",
   "execution_count": 234,
   "metadata": {},
   "outputs": [],
   "source": [
    "\n",
    "def test_on_tickets_ei(file,):\n",
    "    file  = [ line.rstrip().lower() for line in file]\n",
    "    file  = list(file)\n",
    "    tot_sents = len(file)\n",
    "    tot_amb = 0\n",
    "    \n",
    "    cnt_wrg = 0\n",
    "    tot_amb = 0\n",
    "    # boolean that is True if postagging is active (ex model name: è_pos_blablabla)\n",
    "    for s in file:\n",
    "        transformed = transform_ei(str(s),trigger=0.90)\n",
    "        if transformed[0] != s:\n",
    "            cnt_wrg += 1\n",
    "            print('tr :', transformed)\n",
    "    #print('--------------------', cnt_wrg, tot_amb, cnt_wrg/float(tot_amb)*100.0)"
   ]
  },
  {
   "cell_type": "code",
   "execution_count": 235,
   "metadata": {},
   "outputs": [
    {
     "name": "stdout",
     "output_type": "stream",
     "text": [
      "---------------\n",
      "\n",
      "tr : ('scansiona i traduci questo testo', [[0.846, 0.154]])\n",
      "tr : ('sveglia tra un ora i quaranta', [[0.835, 0.165]])\n",
      "tr : ('scansiona i traduci questo testo', [[0.846, 0.154]])\n",
      "tr : ('sveglia tra un ora i quaranta', [[0.835, 0.165]])\n",
      "tr : ('quando giocano napoli i juventus', [[0.728, 0.272]])\n",
      "tr : ('ora i data', [[0.68, 0.32]])\n",
      "tr : ('quando giocano napoli i juventus', [[0.728, 0.272]])\n",
      "tr : ('ora i data', [[0.68, 0.32]])\n",
      "tr : ('che mese è pasqua nel duemila i venti', [[0.631, 0.369]])\n",
      "tr : ('che ore sono i che giorno è', [[0.791, 0.209]])\n",
      "tr : ('che ore sono i che giorno è oggi', [[0.807, 0.193]])\n",
      "tr : ('che ora è i che giorno è oggi', [[0.002, 0.998]])\n",
      "tr : ('che giorno è i che ore sono oggi', [[0.031, 0.969]])\n",
      "tr : ('metti lo zoom della camera a dici per i scatta una foto', [[0.012, 0.988]])\n",
      "tr : ('scansiona i traduci questo testo', [[0.846, 0.154]])\n",
      "tr : ('sveglia tra un ora i quaranta', [[0.835, 0.165]])\n",
      "tr : ('scansiona i traduci questo testo', [[0.846, 0.154]])\n",
      "tr : ('sveglia tra un ora i quaranta', [[0.835, 0.165]])\n",
      "tr : ('quando giocano napoli i juventus', [[0.728, 0.272]])\n",
      "tr : ('ora i data', [[0.68, 0.32]])\n",
      "tr : ('i a gennaio', [[0.446, 0.554]])\n",
      "tr : ('i a febbraio', [[0.531, 0.469]])\n",
      "tr : ('i a marzo', [[0.563, 0.437]])\n",
      "tr : ('i a maggio', [[0.468, 0.532]])\n",
      "tr : ('i a giugno', [[0.586, 0.414]])\n",
      "tr : ('i a luglio', [[0.606, 0.394]])\n",
      "tr : ('i a settembre', [[0.623, 0.377]])\n",
      "tr : ('i a ottobre', [[0.548, 0.452]])\n",
      "tr : ('i a novembre', [[0.545, 0.455]])\n",
      "tr : ('i a dicembre', [[0.499, 0.501]])\n",
      "tr : ('i a natale', [[0.485, 0.515]])\n",
      "tr : ('i a pasqua', [[0.499, 0.501]])\n",
      "tr : ('i a pasquetta', [[0.499, 0.501]])\n",
      "tr : ('i a ferragosto', [[0.499, 0.501]])\n",
      "tr : ('i a pranzo', [[0.548, 0.452]])\n",
      "tr : ('i a cena', [[0.68, 0.32]])\n",
      "---------------\n",
      "\n",
      "---------------\n",
      "\n",
      "tr : ('scrivi i rispondi che è una notizia fantastica', [[0.873, 0.127]])\n",
      "---------------\n",
      "\n",
      "tr : ('imposta lo zoom della camera a dieci per i scatta una foto', [[0.016, 0.984]])\n",
      "tr : ('metti lo zoom della camera a dieci per i scatta una foto', [[0.012, 0.988]])\n",
      "tr : ('imposta lo zoom della camera a dieci per i scatta una foto', [[0.016, 0.984]])\n",
      "tr : ('metti lo zoom della camera a dieci per i scatta una foto', [[0.012, 0.988]])\n",
      "---------------\n",
      "\n",
      "tr : ('ehi bixby di che anno la canzone di the who i j balvin giù giù giù', [[0.007, 0.993]])\n",
      "tr : ('anno duemila i venti', [[0.863, 0.137]])\n",
      "---------------\n",
      "\n"
     ]
    }
   ],
   "source": [
    "TicketsTest = open(\"../tickets_test/NeuralTaggerTicketsTest.txt\", \"r\")\n",
    "LoadTest = open(\"../tickets_test/NeuralTaggerLoadTest.txt\", \"r\")\n",
    "NRTest = open(\"../tickets_test/NeuralTaggerNonRegressionTicketsTest.txt\", \"r\")\n",
    "ASRGiulio = open(\"../tickets_test/NeuralTaggerASRfailureGiulio.txt\", \"r\")\n",
    "UMSHanno = open(\"../tickets_test/NeuralTaggerTicketsTest_hanno.txt\", \"r\")\n",
    "\n",
    "\n",
    "testlist = [TicketsTest, LoadTest, NRTest, ASRGiulio, UMSHanno ]\n",
    "print('---------------\\n')\n",
    "for test in testlist:\n",
    "    test_on_tickets_ei(test)\n",
    "    print('---------------\\n')"
   ]
  },
  {
   "cell_type": "code",
   "execution_count": null,
   "metadata": {},
   "outputs": [],
   "source": []
  }
 ],
 "metadata": {
  "kernelspec": {
   "display_name": "Python 3",
   "language": "python",
   "name": "python3"
  },
  "language_info": {
   "codemirror_mode": {
    "name": "ipython",
    "version": 3
   },
   "file_extension": ".py",
   "mimetype": "text/x-python",
   "name": "python",
   "nbconvert_exporter": "python",
   "pygments_lexer": "ipython3",
   "version": "3.5.2"
  }
 },
 "nbformat": 4,
 "nbformat_minor": 2
}
