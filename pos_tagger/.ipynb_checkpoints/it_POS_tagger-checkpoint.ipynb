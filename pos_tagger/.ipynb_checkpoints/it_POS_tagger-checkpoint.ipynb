{
 "cells": [
  {
   "cell_type": "markdown",
   "metadata": {},
   "source": [
    "Installing last version of model **it_model0** contained in _packages_ folder. "
   ]
  },
  {
   "cell_type": "code",
   "execution_count": null,
   "metadata": {},
   "outputs": [],
   "source": [
    "#!pip install --user spacy\n",
    "#!pip install --user packages/it_model0-0.0.1/dist/*.tar.gz"
   ]
  },
  {
   "cell_type": "code",
   "execution_count": 6,
   "metadata": {},
   "outputs": [
    {
     "name": "stdout",
     "output_type": "stream",
     "text": [
      "Processing ./packages/it_model0-0.0.1/dist/it_model0-0.0.1.tar.gz\n",
      "Requirement already satisfied: spacy>=2.1.4 in /home/asr/.local/lib/python3.5/site-packages (from it-model0==0.0.1) (2.2.1)\n",
      "Requirement already satisfied: plac<1.0.0,>=0.9.6 in /home/asr/.local/lib/python3.5/site-packages (from spacy>=2.1.4->it-model0==0.0.1) (0.9.6)\n",
      "Requirement already satisfied: cymem<2.1.0,>=2.0.2 in /home/asr/.local/lib/python3.5/site-packages (from spacy>=2.1.4->it-model0==0.0.1) (2.0.2)\n",
      "Requirement already satisfied: requests<3.0.0,>=2.13.0 in /home/asr/.local/lib/python3.5/site-packages (from spacy>=2.1.4->it-model0==0.0.1) (2.22.0)\n",
      "Requirement already satisfied: murmurhash<1.1.0,>=0.28.0 in /home/asr/.local/lib/python3.5/site-packages (from spacy>=2.1.4->it-model0==0.0.1) (1.0.2)\n",
      "Requirement already satisfied: numpy>=1.15.0 in /home/asr/.local/lib/python3.5/site-packages (from spacy>=2.1.4->it-model0==0.0.1) (1.17.3)\n",
      "Requirement already satisfied: srsly<1.1.0,>=0.1.0 in /home/asr/.local/lib/python3.5/site-packages (from spacy>=2.1.4->it-model0==0.0.1) (0.1.0)\n",
      "Requirement already satisfied: thinc<7.2.0,>=7.1.1 in /home/asr/.local/lib/python3.5/site-packages (from spacy>=2.1.4->it-model0==0.0.1) (7.1.1)\n",
      "Requirement already satisfied: blis<0.5.0,>=0.4.0 in /home/asr/.local/lib/python3.5/site-packages (from spacy>=2.1.4->it-model0==0.0.1) (0.4.1)\n",
      "Requirement already satisfied: wasabi<1.1.0,>=0.2.0 in /home/asr/.local/lib/python3.5/site-packages (from spacy>=2.1.4->it-model0==0.0.1) (0.2.2)\n",
      "Requirement already satisfied: preshed<3.1.0,>=3.0.2 in /home/asr/.local/lib/python3.5/site-packages (from spacy>=2.1.4->it-model0==0.0.1) (3.0.2)\n",
      "Requirement already satisfied: idna<2.9,>=2.5 in /home/asr/.local/lib/python3.5/site-packages (from requests<3.0.0,>=2.13.0->spacy>=2.1.4->it-model0==0.0.1) (2.8)\n",
      "Requirement already satisfied: urllib3!=1.25.0,!=1.25.1,<1.26,>=1.21.1 in /home/asr/.local/lib/python3.5/site-packages (from requests<3.0.0,>=2.13.0->spacy>=2.1.4->it-model0==0.0.1) (1.25.6)\n",
      "Requirement already satisfied: chardet<3.1.0,>=3.0.2 in /home/asr/.local/lib/python3.5/site-packages (from requests<3.0.0,>=2.13.0->spacy>=2.1.4->it-model0==0.0.1) (3.0.4)\n",
      "Requirement already satisfied: certifi>=2017.4.17 in /home/asr/.local/lib/python3.5/site-packages (from requests<3.0.0,>=2.13.0->spacy>=2.1.4->it-model0==0.0.1) (2019.9.11)\n",
      "Requirement already satisfied: tqdm<5.0.0,>=4.10.0 in /home/asr/.local/lib/python3.5/site-packages (from thinc<7.2.0,>=7.1.1->spacy>=2.1.4->it-model0==0.0.1) (4.36.1)\n",
      "Building wheels for collected packages: it-model0\n",
      "  Building wheel for it-model0 (setup.py) ... \u001b[?25ldone\n",
      "\u001b[?25h  Created wheel for it-model0: filename=it_model0-0.0.1-cp35-none-any.whl size=11758457 sha256=dfc8f5d35d11a4e2a9dd74bbeda188f67a74ae78de7fae2e3d630a078acd5404\n",
      "  Stored in directory: /home/asr/.cache/pip/wheels/91/d8/59/e1925eccff69a71964d31e692e08bac8a53cda757664e1c7b8\n",
      "Successfully built it-model0\n",
      "Installing collected packages: it-model0\n",
      "Successfully installed it-model0-0.0.1\n"
     ]
    }
   ],
   "source": [
    "import spacy"
   ]
  }
 ],
 "metadata": {
  "kernelspec": {
   "display_name": "Python 3",
   "language": "python",
   "name": "python3"
  },
  "language_info": {
   "codemirror_mode": {
    "name": "ipython",
    "version": 3
   },
   "file_extension": ".py",
   "mimetype": "text/x-python",
   "name": "python",
   "nbconvert_exporter": "python",
   "pygments_lexer": "ipython3",
   "version": "3.5.2"
  }
 },
 "nbformat": 4,
 "nbformat_minor": 2
}
